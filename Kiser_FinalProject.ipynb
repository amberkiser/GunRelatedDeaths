{
 "cells": [
  {
   "cell_type": "markdown",
   "metadata": {},
   "source": [
    "# Gun-Related Deaths in the US and outside the US"
   ]
  },
  {
   "cell_type": "markdown",
   "metadata": {},
   "source": [
    "## Abstract\n",
    "Every year thousands of people die in gun-related incidents in the United States. Within the US, individual states have differing levels of gun legislation in place. The Law Center to Prevent Gun Violence in conjunction with the Brady Center evaluates the strength of these gun laws and ranks the states accordingly. A study in 2013 and again in 2016 determined states with more stringent gun legislation have lower rates of gun-related homicides and suicides. Data about gun-related deaths was retrieved from the Centers for Disease Control and Prevention. Fatality rates were calculated based on state by state population data from the US Census. Statistical tests were performed to confirmed states with the highest levels of gun laws subsequently had lower fatality rates. Outside of the US, many countries enforce very stringent gun control laws. In Australia, citizens are not allowed to own handguns. Gun-related deaths in the US were compared to two of these countries with stricter gun laws, the United Kingdom and Australia. The US had a statistically greater rate of gun-related fatalities compared to the UK and Australia. In the US, more research is needed and action to prevent gun-related deaths. This will most likely take a great change in public opinion."
   ]
  },
  {
   "cell_type": "markdown",
   "metadata": {},
   "source": [
    "## Introduction\n",
    "Research related to gun violence has been seriously underfunded in the past few decades. This stems from the Dickey Amendment enacted in 1996, which prevents funding to go toward gun-related research at the CDC.<sup>1</sup> Despite this, in recent years there has been more interest in understanding the efficacy of gun legislation. A 2013 study found states with more stringent gun laws had statistically lower gun-related fatality rates.<sup>2</sup> A further review from 2016 was able to highlight stronger laws requiring background checks and permit-to-purchases were associated with decreased firearm homicide rates.<sup>3</sup> This analysis sought to test this hypothesis that stronger gun laws are associated with lower gun-related fatality rates. To further investigate this, a second hypothesis was tested to see if other countries with even more stringent gun laws, namely the United Kingdom and Australia, saw statistically fewer gun-related deaths. "
   ]
  },
  {
   "cell_type": "code",
   "execution_count": 3,
   "metadata": {},
   "outputs": [
    {
     "name": "stderr",
     "output_type": "stream",
     "text": [
      "Updating HTML index of packages in '.Library'\n",
      "Making 'packages.html' ... done\n",
      "also installing the dependencies ‘flexmix’, ‘prabclus’, ‘diptest’, ‘trimcluster’, ‘fpc’, ‘flashClust’, ‘leaps’, ‘scatterplot3d’, ‘ggsci’, ‘cowplot’, ‘ggsignif’, ‘dendextend’, ‘FactoMineR’, ‘ggpubr’, ‘ggrepel’, ‘ade4’, ‘ca’, ‘mclust’\n",
      "\n",
      "Updating HTML index of packages in '.Library'\n",
      "Making 'packages.html' ... done\n",
      "Welcome! Related Books: `Practical Guide To Cluster Analysis in R` at https://goo.gl/13EFCZ\n"
     ]
    }
   ],
   "source": [
    "library(dplyr)\n",
    "library(lubridate)\n",
    "library(ggplot2)\n",
    "#install.packages('FSA', dependencies = T)\n",
    "library(FSA)\n",
    "library(cluster)\n",
    "#install.packages('factoextra', dependencies = T)\n",
    "library(factoextra)"
   ]
  },
  {
   "cell_type": "markdown",
   "metadata": {},
   "source": [
    "## Methods\n",
    "### Gun Legislation and Gun-Related Fatalities Within the US\n",
    "Data regarding gun violence within the US was retrieved from the Gun Violence Archive.<sup>4</sup> The data was aggregated and filtered. The original dataset contained records from 2013 to 2018; however, the records from 2013 and 2018 were incomplete. These years were excluded from the analysis. The gun-related fatalities dataset was then merged with population estimates for each state obtained from the United States Census Bureau.<sup>5</sup> Rankings for the strength of each states’ gun laws were retrieved from the Law Center to Prevent Gun Violence.<sup>6</sup> These rankings did not include the District of Columbia, so this was excluded from the analysis. The states were split into 4 quartiles according to their rank, including high, medium high, medium low, and low. Gun-related fatality rates were calculated for each state using gun-related deaths per 100,000 population per year. "
   ]
  },
  {
   "cell_type": "code",
   "execution_count": null,
   "metadata": {},
   "outputs": [],
   "source": [
    "US.gun.violence <- read.csv('Data/gun-violence-data-updated.csv', header=T, stringsAsFactors = F)\n",
    "state.pop <- read.csv('Data/state_populations.csv', header=T, stringsAsFactors = F)\n",
    "gun.law.rank <- read.csv('Data/GunLawRank.csv', header=T, stringsAsFactors = F)\n",
    "\n",
    "state.gun.violence <- US.gun.violence %>%\n",
    "  mutate(date = as.Date(date)) %>%\n",
    "  mutate(Year = year(date)) %>%\n",
    "  group_by(state, Year) %>%\n",
    "  summarise(TotalInjured = sum(n_injured), \n",
    "            TotalKilled = sum(n_killed)) %>%\n",
    "  filter(Year != 2013 & Year != 2018 &\n",
    "           state != 'District of Columbia') %>%\n",
    "  as.data.frame()\n",
    "\n",
    "gun.law.rank <- gun.law.rank %>%\n",
    "  arrange(GunLawStrengthRank)\n",
    "high.gun.law <- gun.law.rank[1:12,'State'] \n",
    "medhigh.gun.law <- gun.law.rank[13:25, 'State']\n",
    "medlow.gun.law <- gun.law.rank[26:38, 'State']\n",
    "low.gun.law <- gun.law.rank[39:50, 'State']\n",
    "\n",
    "state.yearbyyear.rate <- state.gun.violence %>%\n",
    "  left_join(state.pop, by = c('state' = 'State', 'Year' = 'Year')) %>%\n",
    "  mutate(Rate = TotalKilled / Population,\n",
    "         Year = as.factor(Year)) %>%\n",
    "  mutate(RatePer100000 = Rate * 100000,\n",
    "         GunLawCategory = case_when(\n",
    "           state %in% high.gun.law ~ 'high',\n",
    "           state %in% medhigh.gun.law ~ 'medium high',\n",
    "           state %in% medlow.gun.law ~ 'medium low',\n",
    "           state %in% low.gun.law ~ 'low'\n",
    "         )) %>%\n",
    "  as.data.frame()"
   ]
  },
  {
   "cell_type": "markdown",
   "metadata": {},
   "source": [
    "A histogram highlighted the right skewness of the data. Boxplots of the strongest (high quartile) and weakest (low quartile) gun law states illustrate a visual difference between the two extremes."
   ]
  },
  {
   "cell_type": "code",
   "execution_count": null,
   "metadata": {},
   "outputs": [],
   "source": [
    "hist(state.yearbyyear.rate$RatePer100000)\n",
    "\n",
    "ggplot(subset(state.yearbyyear.rate, GunLawCategory == 'high'), \n",
    "       aes(x=state, y=RatePer100000)) +\n",
    "  geom_boxplot() + \n",
    "  labs(\n",
    "    title = 'Distribution of Rates from 2014-2017',\n",
    "    subtitle = 'State with the Highest Gun Law Strength Ranks',\n",
    "    x = 'State',\n",
    "    y = 'Deaths Per 100,000 Population'\n",
    "  ) +\n",
    "  scale_y_continuous(limits=c(0,12))\n",
    "\n",
    "ggplot(subset(state.yearbyyear.rate, GunLawCategory == 'low'), \n",
    "       aes(x=state, y=RatePer100000)) +\n",
    "  geom_boxplot() + \n",
    "  labs(\n",
    "    title = 'Distribution of Rates from 2014-2017',\n",
    "    subtitle = 'State with the Lowest Gun Law Strength Ranks',\n",
    "    x = 'State',\n",
    "    y = 'Deaths Per 100,000 Population'\n",
    "  ) +\n",
    "  scale_y_continuous(limits=c(0,12))"
   ]
  },
  {
   "cell_type": "markdown",
   "metadata": {},
   "source": [
    "An ANOVA was initially performed; however, after checking the residual plots of the ANOVA it was determined the data violated the assumptions of an ANOVA. At this point, non-parametric tests were used to confirm if the data was statistically different. \n",
    "\n",
    "The first test used was the Kruskal-Wallis rank sum test, which compared all 4 categories of gun law strength. A Dunn test was then performed to identify the significant multiple pairwise comparisons. Then a Mann-Whitney-Wilcoxon sum test was used to confirm the statistical difference between the highest and lowest categories. "
   ]
  },
  {
   "cell_type": "code",
   "execution_count": null,
   "metadata": {},
   "outputs": [],
   "source": [
    "state.yearbyyear.rate$GunLawCategory <- as.factor(state.yearbyyear.rate$GunLawCategory)\n",
    "state.kw <- kruskal.test(RatePer100000 ~ GunLawCategory, data = state.yearbyyear.rate)\n",
    "\n",
    "state.dunn <- dunnTest(RatePer100000 ~ GunLawCategory, data = state.yearbyyear.rate, method = 'bonferroni')\n",
    "\n",
    "state.mww.df <- subset(state.yearbyyear.rate, GunLawCategory %in% c('high', 'low'))\n",
    "state.mww <- wilcox.test(RatePer100000 ~ GunLawCategory, data = state.mww.df)"
   ]
  },
  {
   "cell_type": "markdown",
   "metadata": {},
   "source": [
    "The overall gun-related fatality rate for each state from 2014 to 2017 was calculated. A K-means cluster analysis was run to see if the resulting clusters would match the previously determined rankings. "
   ]
  },
  {
   "cell_type": "code",
   "execution_count": null,
   "metadata": {},
   "outputs": [],
   "source": [
    "state.overall.rate <- state.gun.violence %>%\n",
    "  left_join(state.pop, by = c('state' = 'State', 'Year' = 'Year')) %>%\n",
    "  group_by(state) %>%\n",
    "  summarise(TotalKilled = sum(TotalKilled),\n",
    "            TotalPop = sum(Population)) %>%\n",
    "  mutate(Rate = TotalKilled / TotalPop,\n",
    "         RatePer100000 = Rate * 100000) %>%\n",
    "  as.data.frame()\n",
    "\n",
    "state.cluster.df <- subset(state.overall.rate, select = c(RatePer100000, state))\n",
    "state.cluster.df <- subset(state.overall.rate, select = RatePer100000)\n",
    "rownames(state.cluster.df) <- state.overall.rate$state\n",
    "distance <- get_dist(state.cluster.df)\n",
    "fviz_dist(distance, gradient = list(low = \"#00AFBB\", mid = \"white\", high = \"#FC4E07\"))\n",
    "\n",
    "state.kmean <- kmeans(state.cluster.df, centers = 4, nstart = 50)\n",
    "\n",
    "state.cluster.df <- state.cluster.df %>%\n",
    "  mutate(state = state.overall.rate$state) %>%\n",
    "  mutate(cluster = as.factor(state.kmean$cluster),\n",
    "         GunLawCategory = case_when(\n",
    "           state %in% high.gun.law ~ 'high',\n",
    "           state %in% medhigh.gun.law ~ 'medium high',\n",
    "           state %in% medlow.gun.law ~ 'medium low',\n",
    "           state %in% low.gun.law ~ 'low'\n",
    "         ))"
   ]
  },
  {
   "cell_type": "markdown",
   "metadata": {},
   "source": [
    "### Gun Legislation and Gun-Related Fatalities In and Outside the US\n"
   ]
  },
  {
   "cell_type": "markdown",
   "metadata": {},
   "source": [
    "Results"
   ]
  },
  {
   "cell_type": "markdown",
   "metadata": {},
   "source": [
    "What's Next\n",
    "Further analysis taking into account multiple covariates, including socioeconomic status\n",
    "make sure other voilence is not up "
   ]
  },
  {
   "cell_type": "markdown",
   "metadata": {},
   "source": [
    "References\n",
    "1. Gerstein\n",
    "2. Fleeger\n",
    "3. Lee\n",
    "4. Gun violence archive.\n",
    "5. US Census Bureau.\n",
    "6. Law center to prevent gun violence"
   ]
  }
 ],
 "metadata": {
  "kernelspec": {
   "display_name": "R",
   "language": "R",
   "name": "ir"
  },
  "language_info": {
   "codemirror_mode": "r",
   "file_extension": ".r",
   "mimetype": "text/x-r-source",
   "name": "R",
   "pygments_lexer": "r",
   "version": "3.3.2"
  }
 },
 "nbformat": 4,
 "nbformat_minor": 2
}
